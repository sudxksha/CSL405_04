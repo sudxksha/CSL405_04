{
  "metadata": {
    "kernelspec": {
      "name": "python",
      "display_name": "Python (Pyodide)",
      "language": "python"
    },
    "language_info": {
      "codemirror_mode": {
        "name": "python",
        "version": 3
      },
      "file_extension": ".py",
      "mimetype": "text/x-python",
      "name": "python",
      "nbconvert_exporter": "python",
      "pygments_lexer": "ipython3",
      "version": "3.8"
    }
  },
  "nbformat_minor": 5,
  "nbformat": 4,
  "cells": [
    {
      "id": "2462a101-ebb2-4f4c-b05b-003d67962db5",
      "cell_type": "markdown",
      "source": "#### Sudiksha Balekundri 4",
      "metadata": {}
    },
    {
      "id": "075fd01d-f1ca-4bd4-a904-b4d9b06d1d99",
      "cell_type": "code",
      "source": "from pathlib import Path\n\nfiles = [f for f in Path('.').iterdir() if f.is_file()]\n\nprint(\"Files in the current directory:\")\nfor file in files:\n    print(file.name)\n",
      "metadata": {
        "trusted": true
      },
      "outputs": [
        {
          "name": "stdout",
          "output_type": "stream",
          "text": "Files in the current directory:\nUntitled.ipynb\nIntro.ipynb\nLorenz.ipynb\nsqlite.ipynb\n"
        }
      ],
      "execution_count": 2
    }
  ]
}